{
  "nbformat": 4,
  "nbformat_minor": 0,
  "metadata": {
    "colab": {
      "provenance": [],
      "authorship_tag": "ABX9TyMrYL7cBpzt3uXIXd686Lq/",
      "include_colab_link": true
    },
    "kernelspec": {
      "name": "python3",
      "display_name": "Python 3"
    },
    "language_info": {
      "name": "python"
    }
  },
  "cells": [
    {
      "cell_type": "markdown",
      "metadata": {
        "id": "view-in-github",
        "colab_type": "text"
      },
      "source": [
        "<a href=\"https://colab.research.google.com/github/YucanLei/testing/blob/main/Untitled1.ipynb\" target=\"_parent\"><img src=\"https://colab.research.google.com/assets/colab-badge.svg\" alt=\"Open In Colab\"/></a>"
      ]
    },
    {
      "cell_type": "markdown",
      "source": [],
      "metadata": {
        "id": "soXMUv8IQkjH"
      }
    },
    {
      "cell_type": "code",
      "execution_count": 2,
      "metadata": {
        "colab": {
          "base_uri": "https://localhost:8080/"
        },
        "id": "J9ksdYo4aGrM",
        "outputId": "3a7a3a9e-39da-4d5c-fe69-a57fa74448b6"
      },
      "outputs": [
        {
          "output_type": "stream",
          "name": "stdout",
          "text": [
            "6.082292556762695\n"
          ]
        }
      ],
      "source": [
        "import numpy as np\n",
        "import scipy.stats as sts\n",
        "import time\n",
        "\n",
        "start = time.time()\n",
        "\n",
        "# Set model parameters\n",
        "rho = 0.5\n",
        "mu = 3.0\n",
        "sigma = 1.0\n",
        "z_0 = mu\n",
        "\n",
        "# Set simulation parameters, draw all idiosyncratic random shocks,\n",
        "# and create empty containers\n",
        "S = 1000  # Set the number of lives to simulate\n",
        "T = 4160  # Set the number of periods for each simulation\n",
        "np.random.seed(25)\n",
        "eps_mat = sts.norm.rvs(loc=0, scale=sigma, size=(T, S))\n",
        "z_mat = np.zeros((T, S))\n",
        "\n",
        "for s_ind in range(S):\n",
        "    z_tm1 = z_0\n",
        "    for t_ind in range(T):\n",
        "        e_t = eps_mat[t_ind, s_ind]\n",
        "        z_t = rho * z_tm1 + (1 - rho) * mu + e_t\n",
        "        z_mat[t_ind, s_ind] = z_t\n",
        "        z_tm1 = z_t\n",
        "\n",
        "end = time.time()\n",
        "print(end - start)"
      ]
    },
    {
      "cell_type": "code",
      "source": [
        "from numba import jit\n",
        "\n",
        "# Set model parameters\n",
        "rho = 0.5\n",
        "mu = 3.0\n",
        "sigma = 1.0\n",
        "z_0 = mu\n",
        "\n",
        "# Set simulation parameters, draw all idiosyncratic random shocks,\n",
        "# and create empty containers\n",
        "S = 1000  # Set the number of lives to simulate\n",
        "T = 4160  # Set the number of periods for each simulation\n",
        "np.random.seed(25)\n",
        "eps_mat = sts.norm.rvs(loc=0, scale=sigma, size=(T, S))\n",
        "\n",
        "@jit(nopython = True)\n",
        "def go_fast(eps_mat, rho, mu, T, S):\n",
        "  '''\n",
        "  the function to optimize the performance of the code\n",
        "  '''\n",
        "  z_mat = np.zeros((T, S))\n",
        "\n",
        "  for s_ind in range(S):\n",
        "      z_tm1 = z_0\n",
        "      for t_ind in range(T):\n",
        "          e_t = eps_mat[t_ind, s_ind]\n",
        "          z_t = rho * z_tm1 + (1 - rho) * mu + e_t\n",
        "          z_mat[t_ind, s_ind] = z_t\n",
        "          z_tm1 = z_t\n",
        "\n",
        "  return z_mat\n",
        "\n",
        "start = time.time()\n",
        "go_fast(eps_mat, rho, mu, 4160, 1000)\n",
        "end = time.time()\n",
        "print(end - start)"
      ],
      "metadata": {
        "colab": {
          "base_uri": "https://localhost:8080/"
        },
        "id": "E-P5-_88aIEq",
        "outputId": "db13f4eb-bb3b-4f02-850c-50d4e95072b4"
      },
      "execution_count": 3,
      "outputs": [
        {
          "output_type": "stream",
          "name": "stdout",
          "text": [
            "1.210350751876831\n"
          ]
        }
      ]
    },
    {
      "cell_type": "code",
      "source": [
        "from numba import jit, float64, int32\n",
        "@jit(float64[:, :](float64[:, :], float64, float64, int32, int32), nopython = True)\n",
        "\n",
        "\n",
        "def go_fast(eps_mat, rho, mu, T, S):\n",
        "  '''\n",
        "  the function to optimize the performance of the code\n",
        "  '''\n",
        "  z_mat = np.zeros((T, S))\n",
        "\n",
        "  for s_ind in range(S):\n",
        "      z_tm1 = z_0\n",
        "      for t_ind in range(T):\n",
        "          e_t = eps_mat[t_ind, s_ind]\n",
        "          z_t = rho * z_tm1 + (1 - rho) * mu + e_t\n",
        "          z_mat[t_ind, s_ind] = z_t\n",
        "          z_tm1 = z_t\n",
        "\n",
        "  return z_mat\n",
        "\n",
        "start = time.time()\n",
        "go_fast(eps_mat, rho, mu, 4160, 1000)\n",
        "end = time.time()\n",
        "print(end - start)\n",
        "\n",
        "t0 = time.time()\n",
        "z_mat = np.zeros((4160, 1000))\n",
        "# eps_mat = sts.norm.rvs(loc=0, scale=sigma, size=(T, S))\n",
        "# rho = 0.5\n",
        "# mu = 3.0\n",
        "# T = 4160\n",
        "# S = 1000\n",
        "t1 = time.time()\n",
        "print(t1 - t0)\n",
        "\n",
        "\n"
      ],
      "metadata": {
        "colab": {
          "base_uri": "https://localhost:8080/"
        },
        "id": "iZ-s1hXOhdY4",
        "outputId": "1689182f-69d7-4eed-8d6c-2c9292a3b8a8"
      },
      "execution_count": 9,
      "outputs": [
        {
          "output_type": "stream",
          "name": "stdout",
          "text": [
            "0.11419534683227539\n",
            "0.1707313060760498\n"
          ]
        }
      ]
    },
    {
      "cell_type": "code",
      "source": [
        "%time go_fast(eps_mat, rho, mu, 4160, 1000)"
      ],
      "metadata": {
        "id": "GEKWjjQ5mRQw",
        "colab": {
          "base_uri": "https://localhost:8080/"
        },
        "outputId": "511809d4-24ae-4a38-bdd8-a0a41286b55c"
      },
      "execution_count": 5,
      "outputs": [
        {
          "output_type": "stream",
          "name": "stdout",
          "text": [
            "CPU times: user 105 ms, sys: 1.93 ms, total: 107 ms\n",
            "Wall time: 109 ms\n"
          ]
        },
        {
          "output_type": "execute_result",
          "data": {
            "text/plain": [
              "array([[3.22827309, 4.0268903 , 2.16041515, ..., 3.5980616 , 4.2172622 ,\n",
              "        4.27401251],\n",
              "       [2.72415509, 2.76100373, 1.84533647, ..., 4.56294503, 4.15767785,\n",
              "        2.40206165],\n",
              "       [0.88323972, 3.60232523, 1.86360091, ..., 3.68876144, 3.25430265,\n",
              "        3.55861037],\n",
              "       ...,\n",
              "       [5.74366912, 2.74903461, 3.7073953 , ..., 1.87117226, 1.64628771,\n",
              "        2.43676356],\n",
              "       [5.44468565, 3.16764667, 4.44006409, ..., 2.86687192, 3.29363719,\n",
              "        2.6143125 ],\n",
              "       [3.72185889, 4.1198887 , 4.67028049, ..., 2.06330704, 3.21297341,\n",
              "        2.6348468 ]])"
            ]
          },
          "metadata": {},
          "execution_count": 5
        }
      ]
    }
  ]
}